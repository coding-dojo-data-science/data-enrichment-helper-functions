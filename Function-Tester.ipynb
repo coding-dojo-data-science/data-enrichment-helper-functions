{
 "cells": [
  {
   "cell_type": "markdown",
   "metadata": {},
   "source": [
    "# Function Tester"
   ]
  },
  {
   "cell_type": "code",
   "execution_count": 49,
   "metadata": {},
   "outputs": [
    {
     "name": "stdout",
     "output_type": "stream",
     "text": [
      "The autoreload extension is already loaded. To reload it, use:\n",
      "  %reload_ext autoreload\n"
     ]
    }
   ],
   "source": [
    "%load_ext autoreload\n",
    "%autoreload 2\n",
    "\n",
    "import file_functions as ff"
   ]
  },
  {
   "cell_type": "code",
   "execution_count": 50,
   "metadata": {},
   "outputs": [
    {
     "name": "stdout",
     "output_type": "stream",
     "text": [
      "<class 'pandas.core.frame.DataFrame'>\n",
      "RangeIndex: 1000 entries, 0 to 999\n",
      "Data columns (total 17 columns):\n",
      " #   Column                     Non-Null Count  Dtype  \n",
      "---  ------                     --------------  -----  \n",
      " 0   fiscal_year_released       1000 non-null   int64  \n",
      " 1   recidivism_reporting_year  1000 non-null   int64  \n",
      " 2   main_supervising_district  553 non-null    object \n",
      " 3   release_type               998 non-null    object \n",
      " 4   race_ethnicity             1000 non-null   object \n",
      " 5   age_at_release             1000 non-null   object \n",
      " 6   sex                        1000 non-null   object \n",
      " 7   offense_class              1000 non-null   object \n",
      " 8   offense_type               1000 non-null   object \n",
      " 9   offense_subtype            1000 non-null   object \n",
      " 10  return_to_prison           1000 non-null   object \n",
      " 11  days_return                290 non-null    float64\n",
      " 12  recidivism_type            1000 non-null   object \n",
      " 13  new_offense_class          161 non-null    object \n",
      " 14  new_offense_type           161 non-null    object \n",
      " 15  new_offense_subtype        161 non-null    object \n",
      " 16  target_population          1000 non-null   object \n",
      "dtypes: float64(1), int64(2), object(14)\n",
      "memory usage: 132.9+ KB\n"
     ]
    },
    {
     "data": {
      "text/html": [
       "<div>\n",
       "<style scoped>\n",
       "    .dataframe tbody tr th:only-of-type {\n",
       "        vertical-align: middle;\n",
       "    }\n",
       "\n",
       "    .dataframe tbody tr th {\n",
       "        vertical-align: top;\n",
       "    }\n",
       "\n",
       "    .dataframe thead th {\n",
       "        text-align: right;\n",
       "    }\n",
       "</style>\n",
       "<table border=\"1\" class=\"dataframe\">\n",
       "  <thead>\n",
       "    <tr style=\"text-align: right;\">\n",
       "      <th></th>\n",
       "      <th>fiscal_year_released</th>\n",
       "      <th>recidivism_reporting_year</th>\n",
       "      <th>main_supervising_district</th>\n",
       "      <th>release_type</th>\n",
       "      <th>race_ethnicity</th>\n",
       "      <th>age_at_release</th>\n",
       "      <th>sex</th>\n",
       "      <th>offense_class</th>\n",
       "      <th>offense_type</th>\n",
       "      <th>offense_subtype</th>\n",
       "      <th>return_to_prison</th>\n",
       "      <th>days_return</th>\n",
       "      <th>recidivism_type</th>\n",
       "      <th>new_offense_class</th>\n",
       "      <th>new_offense_type</th>\n",
       "      <th>new_offense_subtype</th>\n",
       "      <th>target_population</th>\n",
       "    </tr>\n",
       "  </thead>\n",
       "  <tbody>\n",
       "    <tr>\n",
       "      <th>0</th>\n",
       "      <td>2010</td>\n",
       "      <td>2013</td>\n",
       "      <td>7JD</td>\n",
       "      <td>Parole</td>\n",
       "      <td>Black - Non-Hispanic</td>\n",
       "      <td>25-34</td>\n",
       "      <td>Male</td>\n",
       "      <td>C Felony</td>\n",
       "      <td>Violent</td>\n",
       "      <td>Robbery</td>\n",
       "      <td>Yes</td>\n",
       "      <td>433.0</td>\n",
       "      <td>New</td>\n",
       "      <td>C Felony</td>\n",
       "      <td>Drug</td>\n",
       "      <td>Trafficking</td>\n",
       "      <td>Yes</td>\n",
       "    </tr>\n",
       "    <tr>\n",
       "      <th>1</th>\n",
       "      <td>2010</td>\n",
       "      <td>2013</td>\n",
       "      <td>NaN</td>\n",
       "      <td>Discharged – End of Sentence</td>\n",
       "      <td>White - Non-Hispanic</td>\n",
       "      <td>25-34</td>\n",
       "      <td>Male</td>\n",
       "      <td>D Felony</td>\n",
       "      <td>Property</td>\n",
       "      <td>Theft</td>\n",
       "      <td>Yes</td>\n",
       "      <td>453.0</td>\n",
       "      <td>Tech</td>\n",
       "      <td>NaN</td>\n",
       "      <td>NaN</td>\n",
       "      <td>NaN</td>\n",
       "      <td>No</td>\n",
       "    </tr>\n",
       "    <tr>\n",
       "      <th>2</th>\n",
       "      <td>2010</td>\n",
       "      <td>2013</td>\n",
       "      <td>5JD</td>\n",
       "      <td>Parole</td>\n",
       "      <td>White - Non-Hispanic</td>\n",
       "      <td>35-44</td>\n",
       "      <td>Male</td>\n",
       "      <td>B Felony</td>\n",
       "      <td>Drug</td>\n",
       "      <td>Trafficking</td>\n",
       "      <td>Yes</td>\n",
       "      <td>832.0</td>\n",
       "      <td>Tech</td>\n",
       "      <td>NaN</td>\n",
       "      <td>NaN</td>\n",
       "      <td>NaN</td>\n",
       "      <td>Yes</td>\n",
       "    </tr>\n",
       "    <tr>\n",
       "      <th>3</th>\n",
       "      <td>2010</td>\n",
       "      <td>2013</td>\n",
       "      <td>6JD</td>\n",
       "      <td>Parole</td>\n",
       "      <td>White - Non-Hispanic</td>\n",
       "      <td>25-34</td>\n",
       "      <td>Male</td>\n",
       "      <td>B Felony</td>\n",
       "      <td>Other</td>\n",
       "      <td>Other Criminal</td>\n",
       "      <td>No</td>\n",
       "      <td>NaN</td>\n",
       "      <td>No Recidivism</td>\n",
       "      <td>NaN</td>\n",
       "      <td>NaN</td>\n",
       "      <td>NaN</td>\n",
       "      <td>Yes</td>\n",
       "    </tr>\n",
       "    <tr>\n",
       "      <th>4</th>\n",
       "      <td>2010</td>\n",
       "      <td>2013</td>\n",
       "      <td>NaN</td>\n",
       "      <td>Discharged – End of Sentence</td>\n",
       "      <td>Black - Non-Hispanic</td>\n",
       "      <td>35-44</td>\n",
       "      <td>Male</td>\n",
       "      <td>D Felony</td>\n",
       "      <td>Violent</td>\n",
       "      <td>Assault</td>\n",
       "      <td>Yes</td>\n",
       "      <td>116.0</td>\n",
       "      <td>Tech</td>\n",
       "      <td>NaN</td>\n",
       "      <td>NaN</td>\n",
       "      <td>NaN</td>\n",
       "      <td>No</td>\n",
       "    </tr>\n",
       "  </tbody>\n",
       "</table>\n",
       "</div>"
      ],
      "text/plain": [
       "   fiscal_year_released  recidivism_reporting_year main_supervising_district  \\\n",
       "0                  2010                       2013                       7JD   \n",
       "1                  2010                       2013                       NaN   \n",
       "2                  2010                       2013                       5JD   \n",
       "3                  2010                       2013                       6JD   \n",
       "4                  2010                       2013                       NaN   \n",
       "\n",
       "                   release_type        race_ethnicity age_at_release   sex  \\\n",
       "0                        Parole  Black - Non-Hispanic          25-34  Male   \n",
       "1  Discharged – End of Sentence  White - Non-Hispanic          25-34  Male   \n",
       "2                        Parole  White - Non-Hispanic          35-44  Male   \n",
       "3                        Parole  White - Non-Hispanic          25-34  Male   \n",
       "4  Discharged – End of Sentence  Black - Non-Hispanic          35-44  Male   \n",
       "\n",
       "  offense_class offense_type offense_subtype return_to_prison  days_return  \\\n",
       "0      C Felony      Violent         Robbery              Yes        433.0   \n",
       "1      D Felony     Property           Theft              Yes        453.0   \n",
       "2      B Felony         Drug     Trafficking              Yes        832.0   \n",
       "3      B Felony        Other  Other Criminal               No          NaN   \n",
       "4      D Felony      Violent         Assault              Yes        116.0   \n",
       "\n",
       "  recidivism_type new_offense_class new_offense_type new_offense_subtype  \\\n",
       "0             New          C Felony             Drug         Trafficking   \n",
       "1            Tech               NaN              NaN                 NaN   \n",
       "2            Tech               NaN              NaN                 NaN   \n",
       "3   No Recidivism               NaN              NaN                 NaN   \n",
       "4            Tech               NaN              NaN                 NaN   \n",
       "\n",
       "  target_population  \n",
       "0               Yes  \n",
       "1                No  \n",
       "2               Yes  \n",
       "3               Yes  \n",
       "4                No  "
      ]
     },
     "execution_count": 50,
     "metadata": {},
     "output_type": "execute_result"
    }
   ],
   "source": [
    "import pandas as pd\n",
    "df = pd.read_csv('Data/iowa-prisoner-recidivism_data-iowa-gov-api.csv')\n",
    "df.info()\n",
    "df.head()"
   ]
  },
  {
   "cell_type": "code",
   "execution_count": 51,
   "metadata": {},
   "outputs": [
    {
     "name": "stdout",
     "output_type": "stream",
     "text": [
      "- Total Memory Usage = 136.128 KB\n"
     ]
    }
   ],
   "source": [
    "ff.get_df_memory_usage(df, units='kb')"
   ]
  },
  {
   "cell_type": "code",
   "execution_count": 52,
   "metadata": {},
   "outputs": [
    {
     "name": "stdout",
     "output_type": "stream",
     "text": [
      "- Total Memory Usage = 0.136128 MB\n"
     ]
    }
   ],
   "source": [
    "ff.get_df_memory_usage(df, units='mb')"
   ]
  },
  {
   "cell_type": "code",
   "execution_count": 53,
   "metadata": {},
   "outputs": [
    {
     "name": "stdout",
     "output_type": "stream",
     "text": [
      "- Data/iowa-prisoner-recidivism_data-iowa-gov-api.csv is 0.122988 MB on disk.\n"
     ]
    },
    {
     "data": {
      "text/plain": [
       "0.122988"
      ]
     },
     "execution_count": 53,
     "metadata": {},
     "output_type": "execute_result"
    }
   ],
   "source": [
    "ff.get_filesize(\"Data/iowa-prisoner-recidivism_data-iowa-gov-api.csv\")"
   ]
  },
  {
   "cell_type": "code",
   "execution_count": 56,
   "metadata": {},
   "outputs": [
    {
     "name": "stdout",
     "output_type": "stream",
     "text": [
      "- Data/iowa-prisoner-recidivism_data-iowa-gov-api.csv is 0.122988 MB on disk.\n"
     ]
    },
    {
     "data": {
      "text/plain": [
       "{'Filepath': 'Data/iowa-prisoner-recidivism_data-iowa-gov-api.csv',\n",
       " 'Name': 'iowa-prisoner-recidivism_data-iowa-gov-api.csv',\n",
       " 'Created': 'Thu Nov 17 19:04:24 2022',\n",
       " 'Modified': 'Tue Jul 12 13:30:31 2022',\n",
       " 'Size': '0.122988 mb',\n",
       " 'Folder': 'Data',\n",
       " 'Ext': '.csv',\n",
       " 'Size (bytes)': 122988,\n",
       " 'Relative Path': 'Data/iowa-prisoner-recidivism_data-iowa-gov-api.csv',\n",
       " 'Absolute Path': '/Users/codingdojo/Documents/GitHub/_CURRICULUM/data-enrichment-helper-functions/Data/iowa-prisoner-recidivism_data-iowa-gov-api.csv'}"
      ]
     },
     "execution_count": 56,
     "metadata": {},
     "output_type": "execute_result"
    }
   ],
   "source": [
    "ff.get_file_info(\"Data/iowa-prisoner-recidivism_data-iowa-gov-api.csv\")"
   ]
  },
  {
   "cell_type": "code",
   "execution_count": null,
   "metadata": {},
   "outputs": [],
   "source": []
  }
 ],
 "metadata": {
  "kernelspec": {
   "display_name": "Python 3.8.13 ('dojo-env')",
   "language": "python",
   "name": "python3"
  },
  "language_info": {
   "codemirror_mode": {
    "name": "ipython",
    "version": 3
   },
   "file_extension": ".py",
   "mimetype": "text/x-python",
   "name": "python",
   "nbconvert_exporter": "python",
   "pygments_lexer": "ipython3",
   "version": "3.8.13"
  },
  "orig_nbformat": 4,
  "vscode": {
   "interpreter": {
    "hash": "295804e8e014c2a214e7062c757c6b8addd86bbffb9090c97cdc9a271490da83"
   }
  }
 },
 "nbformat": 4,
 "nbformat_minor": 2
}
